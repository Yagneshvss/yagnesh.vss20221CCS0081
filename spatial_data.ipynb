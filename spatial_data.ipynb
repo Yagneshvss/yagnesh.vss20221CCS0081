{
  "nbformat": 4,
  "nbformat_minor": 0,
  "metadata": {
    "colab": {
      "provenance": [],
      "authorship_tag": "ABX9TyMDu+aCXW2Hfpst6I2TZAjl",
      "include_colab_link": true
    },
    "kernelspec": {
      "name": "python3",
      "display_name": "Python 3"
    },
    "language_info": {
      "name": "python"
    }
  },
  "cells": [
    {
      "cell_type": "markdown",
      "metadata": {
        "id": "view-in-github",
        "colab_type": "text"
      },
      "source": [
        "<a href=\"https://colab.research.google.com/github/Yagneshvss/yagnesh.vss20221CCS0081/blob/main/spatial_data.ipynb\" target=\"_parent\"><img src=\"https://colab.research.google.com/assets/colab-badge.svg\" alt=\"Open In Colab\"/></a>"
      ]
    },
    {
      "cell_type": "code",
      "execution_count": null,
      "metadata": {
        "id": "IY9wpMO_Mplr"
      },
      "outputs": [],
      "source": [
        "!pip install folium\n",
        "import folium\n",
        "from folium.features import Marker\n",
        "mymap= folium.Map(location=[12.9796, 77.5908],\n",
        "                  width=950,\n",
        "                  height=550,\n",
        "                  zoom_start=12,\n",
        "                  tiles='openstreetmap')\n",
        "marker = folium.Marker(location=[12.9796, 77.5908],popup='vidhansoudha')\n",
        "mymap.add_child(marker)\n",
        "mymap"
      ]
    },
    {
      "cell_type": "code",
      "source": [
        "import folium\n",
        "\n",
        "\n",
        "mymap = folium.Map(location=[12.9796, 77.5908], zoom_start=10)\n",
        "\n",
        "\n",
        "location_data = [\n",
        "    {\"location\": [12.9796, 77.5908], \"/content/download.jfif\": \"image1.jpg\", \"popup_text\": \"vidhansoudha\"}]\n",
        "\n",
        "for data in location_data:\n",
        "    html = f'<img src=\"{data[\"/content/download.jfif\"]}\" alt=\"Image\" width=\"200\">'\n",
        "    popup = folium.Popup(html, max_width=250)\n",
        "    folium.Marker(\n",
        "        location=data[\"location\"],\n",
        "        popup=popup,\n",
        "        tooltip=data[\"popup_text\"]\n",
        "    ).add_to(mymap)\n",
        "\n",
        "mymap\n"
      ],
      "metadata": {
        "id": "2DscSKijbKRm"
      },
      "execution_count": null,
      "outputs": []
    },
    {
      "cell_type": "code",
      "source": [
        "import folium\n",
        "#BANGLORE MAP WITH FAMOUS PLACES INCLUDING IMAGES\n",
        "# Latitude and longitude coordinates of Bangalore\n",
        "bangalore_coords = (12.9716, 77.5946)\n",
        "\n",
        "# Create a map centered around Bangalore\n",
        "map_bangalore = folium.Map(location=bangalore_coords, zoom_start=12)\n",
        "\n",
        "# Define famous places and their coordinates in Bangalore\n",
        "\n",
        "places = {\n",
        "    \"Lalbagh Botanical Garden\": (12.9507, 77.5844),\n",
        "    \"Cubbon Park\": (12.9757, 77.5929),\n",
        "    \"Bangalore Palace\": (12.97194, 77.5936),\n",
        "    \"Vidhana Soudha\": (12.979693, 77.590658),\n",
        "    \"Presidency University\": (13.1682, 77.5354),\n",
        "    \"Wonderla\": (12.834300, 77.414558)   ,\n",
        "    \"M Chinnaswamy Stadium\": (12.9784, 77.5994),\n",
        "    \"Isckon temple\": (13.00981, 77.55109),\n",
        "    \"Kempegowda International Airport\": (13.192665896, 77.70333052)\n",
        "}\n",
        "\n",
        "\n",
        "\n",
        "# Define images for each place\n",
        "images = {\n",
        "    \"Lalbagh Botanical Garden\": \"https://dynamic-media-cdn.tripadvisor.com/media/photo-o/0c/7d/47/f4/lalbagh-botanical-garden.jpg?w=1200&h=1200&s=1\",\n",
        "    \"Cubbon Park\": \"https://tse1.mm.bing.net/th?id=OIP.G-kjAcQb59k6I1vQ_XcHEwHaE8&pid=Api&P=0&h=180\",\n",
        "    \"Bangalore Palace\": \"https://tse2.mm.bing.net/th?id=OIP.i8dzBHIHgsZ0D9JK9tzSMwHaEo&pid=Api&P=0&h=180\",\n",
        "    \"Vidhana Soudha\": \"https://tse3.mm.bing.net/th?id=OIP.LMgE0-vo4Fk26srdnaMdYgHaFj&pid=Api&P=0&h=180\",\n",
        "    \"Presidency University\": \"https://tse1.mm.bing.net/th?id=OIP.X_YkcFxJv_Hy_fDFMfJv-gHaE8&pid=Api&P=0&h=180\",\n",
        "    \"Wonderla\": \"https://tse2.mm.bing.net/th?id=OIP.p-jWkEz-iJvmLc4PtPFwAAHaE8&pid=Api&P=0&h=180\",\n",
        "    \"M Chinnaswamy Stadium\": \"https://tse1.mm.bing.net/th?id=OIP.NepFTWdG0NbPcLL2XFI-jQHaEK&pid=Api&P=0&h=180\",\n",
        "    \"Isckon temple\": \"https://tse1.mm.bing.net/th?id=OIP.76ttZ61WrTg-a-nuYSpdPAHaFj&pid=Api&P=0&h=180\",\n",
        "    \"Kempegowda International Airport\": \"https://tse4.mm.bing.net/th?id=OIP.tu4IQk62ZmQfQhbIPDfZ8AHaE8&pid=Api&P=0&h=180\"\n",
        "}\n",
        "\n",
        "# Add markers for each place\n",
        "for place, coords in places.items():\n",
        "    popup_content = f'<b>{place}</b><br><img src=\"{images[place]}\" width=\"200\">'\n",
        "    folium.Marker(location=coords, popup=folium.Popup(popup_content, max_width=300)).add_to(map_bangalore)\n",
        "\n",
        "# Display the map\n",
        "map_bangalore"
      ],
      "metadata": {
        "id": "Gd5uV0wQckEw"
      },
      "execution_count": null,
      "outputs": []
    }
  ]
}